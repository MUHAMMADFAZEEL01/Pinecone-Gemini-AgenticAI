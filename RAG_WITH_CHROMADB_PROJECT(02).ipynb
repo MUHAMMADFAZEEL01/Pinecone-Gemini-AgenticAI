{
  "nbformat": 4,
  "nbformat_minor": 0,
  "metadata": {
    "colab": {
      "provenance": [],
      "authorship_tag": "ABX9TyODo0NP/X+pShLPH2CCTXtl",
      "include_colab_link": true
    },
    "kernelspec": {
      "name": "python3",
      "display_name": "Python 3"
    },
    "language_info": {
      "name": "python"
    }
  },
  "cells": [
    {
      "cell_type": "markdown",
      "metadata": {
        "id": "view-in-github",
        "colab_type": "text"
      },
      "source": [
        "<a href=\"https://colab.research.google.com/github/MUHAMMADFAZEEL01/Pinecone-Gemini-AgenticAI/blob/main/RAG_WITH_CHROMADB_PROJECT(02).ipynb\" target=\"_parent\"><img src=\"https://colab.research.google.com/assets/colab-badge.svg\" alt=\"Open In Colab\"/></a>"
      ]
    },
    {
      "cell_type": "markdown",
      "source": [
        "\n",
        "```markdown\n",
        "```\n",
        " The goal is to extract insights from the document using similarity search, embeddings, and a generative AI model (Google's Gemini model). Here's the breakdown of the process:\n",
        "\n",
        "1. **Install Required Libraries**:\n",
        "    - We use `langchain-chroma` for vector storage and similarity search.\n",
        "    - `langchain-google-genai` is used to interact with Google's generative AI models.\n",
        "    - `PyPDFLoader` is used to load and parse the PDF file.\n",
        "\n",
        "2. **Loading the PDF Document**:\n",
        "    - The `PyPDFLoader` is used to load and extract the content from the specified PDF file.\n",
        "\n",
        "3. **Setting Up API Keys**:\n",
        "    - The Google API key and credentials are set up to authenticate and access Google's AI services.\n",
        "\n",
        "4. **Creating Embeddings**:\n",
        "    - Using Google's embedding model (`embedding-001`), we create a vector representation of the content of the PDF document.\n",
        "\n",
        "5. **Storing Vectors with Chroma**:\n",
        "    - We store the document embeddings using Chroma's vector store, which will allow us to perform similarity searches based on user queries.\n",
        "\n",
        "6. **Query Input from User**:\n",
        "    - The user is prompted to ask a question about the document.\n",
        "\n",
        "7. **Similarity Search**:\n",
        "    - A similarity search is performed on the document's embeddings to find the most relevant context that answers the user's query.\n",
        "\n",
        "8. **Generating the Response**:\n",
        "    - The retrieved context and user query are fed into a generative AI model (Google's Gemini-1.5) to generate a response.\n",
        "\n",
        "9. **Displaying the Result**:\n",
        "    - The generated response is displayed to the user.\n",
        "\n",
        "\n",
        "\n",
        "```\n",
        "\n",
        "```\n",
        "\n",
        "\n",
        "\n",
        "## Key Concepts:\n",
        "\n",
        "- **Vector Embeddings**: Vector embeddings allow representing text or documents as vectors (numerical representations). This is useful for tasks like document similarity and semantic search.\n",
        "- **Similarity Search**: This technique helps identify the most relevant pieces of text or documents based on a given query by comparing the vector representations.\n",
        "- **Generative AI**: Google's Gemini-1.5 model is used here to generate a coherent response based on the provided context and query.\n",
        "\n",
        "This approach leverages AI to analyze content in a meaningful and contextual way, making it a powerful tool for document-based question answering.\n",
        "```"
      ],
      "metadata": {
        "id": "S61bC1QME5f1"
      }
    },
    {
      "cell_type": "code",
      "source": [
        "!pip install -q langchain-chroma langchain-google-genai"
      ],
      "metadata": {
        "collapsed": true,
        "id": "B_c-5v49pJUZ"
      },
      "execution_count": 97,
      "outputs": []
    },
    {
      "cell_type": "code",
      "source": [
        "# !pip install -q langchain_community pypdf"
      ],
      "metadata": {
        "id": "QLeGrNu_qX7B"
      },
      "execution_count": 78,
      "outputs": []
    },
    {
      "cell_type": "code",
      "source": [
        "from langchain_community.document_loaders import PyPDFLoader\n",
        "\n",
        "filepdf= (\n",
        "    '/content/Strategic Mindset  A 7-Day Plan to Identify What Matters and Create a Strategy that Works (Productivity Series Book 4) (Thibaut  Meurisse) (Z-Library).pdf'\n",
        ")\n",
        "loader = PyPDFLoader(filepdf)\n",
        "document = loader.load()"
      ],
      "metadata": {
        "id": "uvwizgBTpmm-"
      },
      "execution_count": 98,
      "outputs": []
    },
    {
      "cell_type": "code",
      "source": [
        "from google.colab import userdata\n",
        "from langchain_google_genai import GoogleGenerativeAIEmbeddings\n",
        "embeddings = GoogleGenerativeAIEmbeddings(google_api_key=userdata.get('GEMINI_API_KEY'),model ='models/embedding-001')\n",
        "import os\n",
        "os.environ['GEMINI_API_KEY'] = userdata.get('GEMINI_API_KEY')\n",
        "os.environ[\"GOOGLE_APPLICATION_CREDENTIALS\"] = \"/content/ragproject-446611-8c78fb8b1c9a.json\""
      ],
      "metadata": {
        "id": "1VHXp7LHsk7a"
      },
      "execution_count": 99,
      "outputs": []
    },
    {
      "cell_type": "code",
      "source": [
        "from langchain_chroma import Chroma\n",
        "vector_store = Chroma.from_documents(documents=document, embedding=embeddings)"
      ],
      "metadata": {
        "id": "VAo1bgDwtypC"
      },
      "execution_count": 100,
      "outputs": []
    },
    {
      "cell_type": "code",
      "source": [
        "from langchain_google_genai import ChatGoogleGenerativeAI\n",
        "from langchain.vectorstores import Pinecone\n",
        "from IPython.display import Markdown, display\n",
        "\n",
        "# Initialize the LLM (ensure to use the correct model and API key)\n",
        "llm = ChatGoogleGenerativeAI(\n",
        "    model=\"gemini-1.5-flash\",\n",
        "    api_key=userdata.get('GEMINI_API_KEY')\n",
        ")\n",
        "\n",
        "# Take the user's query\n",
        "query = str(input('Ask me a question about Strategic Mindset: A 7-Day Plan to Identify What Matters: ' ))\n",
        "\n",
        "# Retrieve context using Pinecone's similarity search\n",
        "retriever = vector_store.similarity_search(query)\n",
        "\n",
        "# Create the prompt combining the question and context\n",
        "prompt = f\"Answer the question: {query} under the context: {retriever}\"\n",
        "\n",
        "# Invoke the model with the prompt\n",
        "result = llm.invoke(prompt)\n",
        "\n",
        "# Display the result content\n",
        "display(Markdown(result.content))\n"
      ],
      "metadata": {
        "colab": {
          "base_uri": "https://localhost:8080/",
          "height": 500
        },
        "id": "B8PYYAbGAWDw",
        "outputId": "00d61d79-e058-4756-a0bd-c282f69b79b2"
      },
      "execution_count": 101,
      "outputs": [
        {
          "name": "stdout",
          "output_type": "stream",
          "text": [
            "Ask me a question about Strategic Mindset: A 7-Day Plan to Identify What Matters: write the prospectus of this book\n"
          ]
        },
        {
          "output_type": "display_data",
          "data": {
            "text/plain": [
              "<IPython.core.display.Markdown object>"
            ],
            "text/markdown": "**Prospectus: Strategic Mindset: A 7-Day Plan to Identify What Matters and Create a Strategy that Works**\n\n**Book Title:** Strategic Mindset: A 7-Day Plan to Identify What Matters and Create a Strategy that Works (Productivity Series Book 4)\n\n**Author:** Thibaut Meurisse\n\n**Target Audience:** This book is designed for individuals seeking to improve their productivity and achieve their goals more effectively.  It targets professionals, entrepreneurs, and anyone striving for greater efficiency and strategic thinking in their personal and professional lives.  Those feeling overwhelmed by tasks and lacking a clear path to success will particularly benefit.\n\n**Book Overview:**  In today's fast-paced world, effective strategy is crucial for success.  This book provides a practical, seven-day plan to cultivate a strategic mindset.  It moves beyond simple time management, focusing on identifying the most impactful tasks and developing a clear strategy to achieve ambitious goals, even those that seem daunting.  Readers will learn to assess the value of each task, prioritizing activities aligned with their overarching objectives.  The book empowers readers to become strategic producers, making conscious decisions about how they spend their time to maximize results.\n\n**Key Selling Points:**\n\n* **7-Day Actionable Plan:**  Provides a structured, easy-to-follow plan for immediate implementation.\n* **Focus on Strategic Thinking:**  Goes beyond simple productivity techniques to teach the core principles of strategic planning.\n* **Practical Application:**  Offers readily applicable strategies for everyday tasks and challenges.\n* **Goal Achievement Focus:**  Empowers readers to achieve even the most challenging goals.\n* **Proven Methodology:**  Based on principles that have been proven effective in achieving significant results.\n* **Part of a Successful Series:**  This is book four in a successful productivity series, building on established trust and readership.\n\n**Marketing Strategy:**  The book will be marketed through online channels, including social media advertising, targeted blog posts, and collaborations with productivity influencers.  We will also explore partnerships with relevant organizations and businesses.  The book's clear, concise approach and actionable advice make it highly shareable and suitable for online promotion.\n\n\n**Author Bio:** (Information needed to complete this section.  A brief author bio highlighting relevant experience and expertise would be beneficial.)\n\n\n**Call to Action:**  This book is your key to unlocking your full potential and achieving lasting success.  Order your copy today and begin building the strategic mindset you need to reach your goals."
          },
          "metadata": {}
        }
      ]
    }
  ]
}