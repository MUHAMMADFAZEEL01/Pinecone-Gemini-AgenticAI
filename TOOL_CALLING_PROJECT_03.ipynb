{
  "nbformat": 4,
  "nbformat_minor": 0,
  "metadata": {
    "colab": {
      "provenance": [],
      "gpuType": "T4",
      "authorship_tag": "ABX9TyP3yqfB4vlpg4EMAHpi5ezk",
      "include_colab_link": true
    },
    "kernelspec": {
      "name": "python3",
      "display_name": "Python 3"
    },
    "language_info": {
      "name": "python"
    },
    "accelerator": "GPU"
  },
  "cells": [
    {
      "cell_type": "markdown",
      "metadata": {
        "id": "view-in-github",
        "colab_type": "text"
      },
      "source": [
        "<a href=\"https://colab.research.google.com/github/MUHAMMADFAZEEL01/Pinecone-Gemini-AgenticAI/blob/main/TOOL_CALLING_PROJECT_03.ipynb\" target=\"_parent\"><img src=\"https://colab.research.google.com/assets/colab-badge.svg\" alt=\"Open In Colab\"/></a>"
      ]
    },
    {
      "cell_type": "code",
      "execution_count": null,
      "metadata": {
        "id": "SdD2hFxRquD-"
      },
      "outputs": [],
      "source": [
        "!pip install -q langchain langchain-google-genai"
      ]
    },
    {
      "cell_type": "code",
      "source": [
        "import os\n",
        "from google.colab import userdata\n",
        "# os.environ['GOOGLE_API_KEY'] = userdata.get('GEMINI_API_KEY')\n",
        "os.environ['GEMINI_API_KEY'] = userdata.get('GEMINI_API_KEY')"
      ],
      "metadata": {
        "id": "F1GbzWByvZhf"
      },
      "execution_count": null,
      "outputs": []
    },
    {
      "cell_type": "code",
      "source": [
        "import os\n",
        "os.environ[\"GOOGLE_APPLICATION_CREDENTIALS\"] = \"/content/ragproject-446611-8c78fb8b1c9a.json\"\n"
      ],
      "metadata": {
        "id": "Wxh3I2oJFpv0"
      },
      "execution_count": null,
      "outputs": []
    },
    {
      "cell_type": "code",
      "source": [
        "from langchain_google_genai import ChatGoogleGenerativeAI\n",
        "from langchain.agents import Agent, initialize_agent, Tool\n",
        "from langchain.prompts import ChatPromptTemplate\n",
        "from langchain.memory import ConversationBufferMemory\n",
        "from langchain.chains import LLMChain\n",
        "from IPython.display import display, Markdown"
      ],
      "metadata": {
        "id": "N0eVg7FRut7C"
      },
      "execution_count": null,
      "outputs": []
    },
    {
      "cell_type": "code",
      "source": [
        "def calculator(expression:str)->str:\n",
        "    try:\n",
        "        result = eval(expression, {'_builtins_': None}, {})\n",
        "        return f\"Result: {result}\"\n",
        "    except Exception as e:\n",
        "        return f\"Error: {e}\"\n"
      ],
      "metadata": {
        "id": "4tPnCfuivq0h"
      },
      "execution_count": null,
      "outputs": []
    },
    {
      "cell_type": "code",
      "source": [
        "tool = Tool(\n",
        "    name='calculator',\n",
        "    func=calculator,\n",
        "    description='Useful for when you need to answer questions about math'\n",
        ")\n",
        "tools = [tool]"
      ],
      "metadata": {
        "id": "-06QptFBvlhw"
      },
      "execution_count": null,
      "outputs": []
    },
    {
      "cell_type": "code",
      "source": [
        "prompt_template = ChatPromptTemplate.from_template('''\n",
        "input_user = (5*3)+99-9/(5+8)\n",
        "result = 113.3\n",
        "\n",
        "output_user : {result}\n",
        "\n",
        "\n",
        "\n",
        "''')"
      ],
      "metadata": {
        "id": "FwgDslNnoqLz"
      },
      "execution_count": null,
      "outputs": []
    },
    {
      "cell_type": "code",
      "source": [
        "memory = ConversationBufferMemory(memory_key=\"history\", input_key=\"input\", output_key=\"output\")\n"
      ],
      "metadata": {
        "id": "W8MUmToMvYXW"
      },
      "execution_count": null,
      "outputs": []
    },
    {
      "cell_type": "code",
      "source": [
        "llm = ChatGoogleGenerativeAI(temperature=0,model='gemini-1.5-flash')\n",
        "chain = LLMChain(llm=llm,prompt=prompt_template)"
      ],
      "metadata": {
        "id": "Noarg2juoKfZ"
      },
      "execution_count": null,
      "outputs": []
    },
    {
      "cell_type": "code",
      "source": [
        "llm_chain = LLMChain(llm=llm, prompt=prompt_template)"
      ],
      "metadata": {
        "id": "tyk22lNXvdk5"
      },
      "execution_count": null,
      "outputs": []
    },
    {
      "cell_type": "code",
      "source": [
        "Agent = initialize_agent(\n",
        "    tools=tools,\n",
        "    memory=memory,\n",
        "    llm=llm,\n",
        "    agent=\"zero-shot-react-description\",\n",
        "    verbose=True\n",
        ")"
      ],
      "metadata": {
        "id": "PRez80vNpAjI"
      },
      "execution_count": null,
      "outputs": []
    },
    {
      "cell_type": "code",
      "source": [
        "query = str(input(\"Write mathematical expression :\"))\n",
        "result = Agent.run(query)\n",
        "response = llm.invoke(f\"the query is {query} and the response from the tool is {result} which is user as a context give me answer in brifly\")\n",
        "display(Markdown(response.content))\n",
        "print('--'*40)\n",
        "print(\"Memory after running agent:\")\n",
        "print(memory.buffer)"
      ],
      "metadata": {
        "colab": {
          "base_uri": "https://localhost:8080/",
          "height": 848
        },
        "id": "J32Nnt3tqX9f",
        "outputId": "c6c34bba-5075-43c2-f1c3-535bb921a056"
      },
      "execution_count": null,
      "outputs": [
        {
          "output_type": "stream",
          "name": "stdout",
          "text": [
            "Write mathematical expression :(5*8)+89-33/(5)\n",
            "\n",
            "\n",
            "\u001b[1m> Entering new AgentExecutor chain...\u001b[0m\n",
            "\u001b[32;1m\u001b[1;3mThought: I need to calculate the given expression.  I'll use the calculator tool to evaluate it step-by-step to avoid order of operations errors.\n",
            "\n",
            "Action: calculator\n",
            "Action Input: \"5*8\"\u001b[0m\n",
            "Observation: \u001b[36;1m\u001b[1;3mResult: 40\u001b[0m\n",
            "Thought:\u001b[32;1m\u001b[1;3mQuestion: (5*8)+89-33/(5)\n",
            "Thought: I need to calculate the given expression.  I'll use the calculator tool to evaluate it step-by-step to avoid order of operations errors.\n",
            "\n",
            "Action: calculator\n",
            "Action Input: \"5*8\"\u001b[0m\n",
            "Observation: \u001b[36;1m\u001b[1;3mResult: 40\u001b[0m\n",
            "Thought:\u001b[32;1m\u001b[1;3mQuestion: (5*8)+89-33/(5)\n",
            "Thought: I need to calculate the given expression.  I'll use the calculator tool to evaluate it step-by-step to avoid order of operations errors.  I'll first calculate 5*8.\n",
            "\n",
            "Action: calculator\n",
            "Action Input: \"5*8\"\u001b[0m\n",
            "Observation: \u001b[36;1m\u001b[1;3mResult: 40\u001b[0m\n",
            "Thought:\u001b[32;1m\u001b[1;3mQuestion: (5*8)+89-33/(5)\n",
            "Thought: I need to calculate the given expression. I'll use the calculator tool to evaluate it step-by-step to avoid order of operations errors. I'll first calculate 5*8.\n",
            "\n",
            "Action: calculator\n",
            "Action Input: \"5*8\"\u001b[0m\n",
            "Observation: \u001b[36;1m\u001b[1;3mResult: 40\u001b[0m\n",
            "Thought:\u001b[32;1m\u001b[1;3mThought: Now I'll calculate 33/5.\n",
            "\n",
            "Action: calculator\n",
            "Action Input: \"33/5\"\u001b[0m\n",
            "Observation: \u001b[36;1m\u001b[1;3mResult: 6.6\u001b[0m\n",
            "Thought:\u001b[32;1m\u001b[1;3mThought: Now I'll calculate the entire expression: 40 + 89 - 6.6\n",
            "\n",
            "Action: calculator\n",
            "Action Input: \"40 + 89 - 6.6\"\u001b[0m\n",
            "Observation: \u001b[36;1m\u001b[1;3mResult: 122.4\u001b[0m\n",
            "Thought:\u001b[32;1m\u001b[1;3mThought: I now know the final answer\n",
            "Final Answer: 122.4\u001b[0m\n",
            "\n",
            "\u001b[1m> Finished chain.\u001b[0m\n"
          ]
        },
        {
          "output_type": "display_data",
          "data": {
            "text/plain": [
              "<IPython.core.display.Markdown object>"
            ],
            "text/markdown": "Following the order of operations (PEMDAS/BODMAS), the correct answer is 122."
          },
          "metadata": {}
        },
        {
          "output_type": "stream",
          "name": "stdout",
          "text": [
            "--------------------------------------------------------------------------------\n",
            "Memory after running agent:\n",
            "Human: (5*8)+89-33/(5)\n",
            "AI: 122.4\n"
          ]
        }
      ]
    }
  ]
}